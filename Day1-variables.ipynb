{
 "cells": [
  {
   "cell_type": "markdown",
   "id": "ad8cd2ba",
   "metadata": {},
   "source": [
    "## Variables\n"
   ]
  },
  {
   "cell_type": "code",
   "execution_count": 4,
   "id": "8c174621",
   "metadata": {},
   "outputs": [
    {
     "data": {
      "text/plain": [
       "131.57142857142858"
      ]
     },
     "execution_count": 4,
     "metadata": {},
     "output_type": "execute_result"
    }
   ],
   "source": [
    "900/7 + 3*1 -22 % 2\n"
   ]
  },
  {
   "cell_type": "code",
   "execution_count": 20,
   "id": "ca66274a",
   "metadata": {},
   "outputs": [
    {
     "name": "stdout",
     "output_type": "stream",
     "text": [
      "Please Enter a number30\n"
     ]
    }
   ],
   "source": [
    "number =input(\"Please Enter a number\")\n",
    "newnumber= int(number)\n"
   ]
  },
  {
   "cell_type": "code",
   "execution_count": 21,
   "id": "90325696",
   "metadata": {},
   "outputs": [],
   "source": [
    "number = 20"
   ]
  },
  {
   "cell_type": "code",
   "execution_count": 22,
   "id": "29f33408",
   "metadata": {},
   "outputs": [
    {
     "data": {
      "text/plain": [
       "10.0"
      ]
     },
     "execution_count": 22,
     "metadata": {},
     "output_type": "execute_result"
    }
   ],
   "source": [
    "number /2"
   ]
  },
  {
   "cell_type": "code",
   "execution_count": 23,
   "id": "17762f19",
   "metadata": {},
   "outputs": [
    {
     "data": {
      "text/plain": [
       "40"
      ]
     },
     "execution_count": 23,
     "metadata": {},
     "output_type": "execute_result"
    }
   ],
   "source": [
    "\n",
    "2*number"
   ]
  },
  {
   "cell_type": "code",
   "execution_count": 24,
   "id": "d2ac9c7c",
   "metadata": {},
   "outputs": [
    {
     "data": {
      "text/plain": [
       "30"
      ]
     },
     "execution_count": 24,
     "metadata": {},
     "output_type": "execute_result"
    }
   ],
   "source": [
    "newnumber\n"
   ]
  },
  {
   "cell_type": "code",
   "execution_count": null,
   "id": "a8c87c5a",
   "metadata": {},
   "outputs": [],
   "source": []
  }
 ],
 "metadata": {
  "kernelspec": {
   "display_name": "Python 3 (ipykernel)",
   "language": "python",
   "name": "python3"
  },
  "language_info": {
   "codemirror_mode": {
    "name": "ipython",
    "version": 3
   },
   "file_extension": ".py",
   "mimetype": "text/x-python",
   "name": "python",
   "nbconvert_exporter": "python",
   "pygments_lexer": "ipython3",
   "version": "3.11.5"
  }
 },
 "nbformat": 4,
 "nbformat_minor": 5
}
