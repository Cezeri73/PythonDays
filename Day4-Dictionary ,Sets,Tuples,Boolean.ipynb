{
 "cells": [
  {
   "cell_type": "markdown",
   "id": "2eabb640",
   "metadata": {},
   "source": [
    "# Dictionary"
   ]
  },
  {
   "cell_type": "code",
   "execution_count": 1,
   "id": "4428375c",
   "metadata": {},
   "outputs": [],
   "source": [
    "#key-value pairing (yani anahtar-değer eşleşmesi)"
   ]
  },
  {
   "cell_type": "code",
   "execution_count": 2,
   "id": "197d2ec5",
   "metadata": {},
   "outputs": [],
   "source": [
    "fruit_list = [\"banana\",\"apple\"]"
   ]
  },
  {
   "cell_type": "code",
   "execution_count": 3,
   "id": "db019463",
   "metadata": {},
   "outputs": [],
   "source": [
    "calori_list=[100,150]"
   ]
  },
  {
   "cell_type": "code",
   "execution_count": 4,
   "id": "6b5901f2",
   "metadata": {},
   "outputs": [],
   "source": [
    "#the above indexing method is not useful at many places so we use dictionary"
   ]
  },
  {
   "cell_type": "code",
   "execution_count": 5,
   "id": "e7160f45",
   "metadata": {},
   "outputs": [],
   "source": [
    "fitness_dictionary={\"banana\":100,\"apple\":150}"
   ]
  },
  {
   "cell_type": "code",
   "execution_count": 6,
   "id": "daa1a40d",
   "metadata": {},
   "outputs": [
    {
     "data": {
      "text/plain": [
       "dict"
      ]
     },
     "execution_count": 6,
     "metadata": {},
     "output_type": "execute_result"
    }
   ],
   "source": [
    "type(fitness_dictionary)"
   ]
  },
  {
   "cell_type": "code",
   "execution_count": 7,
   "id": "7fe5ce2c",
   "metadata": {},
   "outputs": [
    {
     "data": {
      "text/plain": [
       "100"
      ]
     },
     "execution_count": 7,
     "metadata": {},
     "output_type": "execute_result"
    }
   ],
   "source": [
    "fitness_dictionary[\"banana\"] #anahtarla arama yapılıyor index mantığı burada yok"
   ]
  },
  {
   "cell_type": "code",
   "execution_count": 8,
   "id": "67c9ef4a",
   "metadata": {},
   "outputs": [
    {
     "data": {
      "text/plain": [
       "dict_keys(['banana', 'apple'])"
      ]
     },
     "execution_count": 8,
     "metadata": {},
     "output_type": "execute_result"
    }
   ],
   "source": [
    "fitness_dictionary.keys()"
   ]
  },
  {
   "cell_type": "code",
   "execution_count": 9,
   "id": "6ae329f2",
   "metadata": {},
   "outputs": [
    {
     "data": {
      "text/plain": [
       "dict_values([100, 150])"
      ]
     },
     "execution_count": 9,
     "metadata": {},
     "output_type": "execute_result"
    }
   ],
   "source": [
    "fitness_dictionary.values()"
   ]
  },
  {
   "cell_type": "code",
   "execution_count": 10,
   "id": "7c209c3b",
   "metadata": {},
   "outputs": [
    {
     "data": {
      "text/plain": [
       "dict_items([('banana', 100), ('apple', 150)])"
      ]
     },
     "execution_count": 10,
     "metadata": {},
     "output_type": "execute_result"
    }
   ],
   "source": [
    "fitness_dictionary.items()"
   ]
  },
  {
   "cell_type": "code",
   "execution_count": 11,
   "id": "162012ed",
   "metadata": {},
   "outputs": [
    {
     "data": {
      "text/plain": [
       "[100, 150]"
      ]
     },
     "execution_count": 11,
     "metadata": {},
     "output_type": "execute_result"
    }
   ],
   "source": [
    "list(fitness_dictionary.values())"
   ]
  },
  {
   "cell_type": "code",
   "execution_count": 12,
   "id": "8d36973e",
   "metadata": {},
   "outputs": [
    {
     "data": {
      "text/plain": [
       "{'banana': 100, 'apple': 150}"
      ]
     },
     "execution_count": 12,
     "metadata": {},
     "output_type": "execute_result"
    }
   ],
   "source": [
    "fitness_dictionary\n"
   ]
  },
  {
   "cell_type": "code",
   "execution_count": 13,
   "id": "a4d09d54",
   "metadata": {},
   "outputs": [],
   "source": [
    "fitness_dictionary[\"banana\"]=200"
   ]
  },
  {
   "cell_type": "code",
   "execution_count": 14,
   "id": "e56e13d9",
   "metadata": {},
   "outputs": [
    {
     "data": {
      "text/plain": [
       "{'banana': 200, 'apple': 150}"
      ]
     },
     "execution_count": 14,
     "metadata": {},
     "output_type": "execute_result"
    }
   ],
   "source": [
    "fitness_dictionary"
   ]
  },
  {
   "cell_type": "code",
   "execution_count": 15,
   "id": "f42a912b",
   "metadata": {},
   "outputs": [],
   "source": [
    "fitness_dictionary[\"melon\"] =300"
   ]
  },
  {
   "cell_type": "code",
   "execution_count": 16,
   "id": "9eefe512",
   "metadata": {},
   "outputs": [
    {
     "data": {
      "text/plain": [
       "{'banana': 200, 'apple': 150, 'melon': 300}"
      ]
     },
     "execution_count": 16,
     "metadata": {},
     "output_type": "execute_result"
    }
   ],
   "source": [
    "fitness_dictionary"
   ]
  },
  {
   "cell_type": "code",
   "execution_count": 17,
   "id": "dc90be83",
   "metadata": {},
   "outputs": [
    {
     "name": "stdout",
     "output_type": "stream",
     "text": [
      "Help on built-in function get:\n",
      "\n",
      "get(key, default=None, /) method of builtins.dict instance\n",
      "    Return the value for key if key is in the dictionary, else default.\n",
      "\n"
     ]
    }
   ],
   "source": [
    "help(fitness_dictionary.get)"
   ]
  },
  {
   "cell_type": "code",
   "execution_count": 18,
   "id": "44b5b2ad",
   "metadata": {},
   "outputs": [
    {
     "data": {
      "text/plain": [
       "150"
      ]
     },
     "execution_count": 18,
     "metadata": {},
     "output_type": "execute_result"
    }
   ],
   "source": [
    "fitness_dictionary.get(\"apple\",\"applenotFound\")"
   ]
  },
  {
   "cell_type": "code",
   "execution_count": 19,
   "id": "9f21ee34",
   "metadata": {},
   "outputs": [],
   "source": [
    "##Dictoionary Exercises"
   ]
  },
  {
   "cell_type": "code",
   "execution_count": 20,
   "id": "e4c66378",
   "metadata": {},
   "outputs": [],
   "source": [
    "ferhengaKurdi ={\"yade\" : \"anne\",\"bav\":\"baba\",\"xuşk\":\"kızkardeş\",\"bra\":\"erkek kardeş\"}"
   ]
  },
  {
   "cell_type": "code",
   "execution_count": 21,
   "id": "4fba3321",
   "metadata": {},
   "outputs": [
    {
     "data": {
      "text/plain": [
       "'anne'"
      ]
     },
     "execution_count": 21,
     "metadata": {},
     "output_type": "execute_result"
    }
   ],
   "source": [
    "ferhengaKurdi[\"yade\"]"
   ]
  },
  {
   "cell_type": "code",
   "execution_count": 22,
   "id": "3d219667",
   "metadata": {},
   "outputs": [],
   "source": [
    "my_mixed_dict= {\"key1\" : 5 , \"key2\":3.14 ,\"key3\": [10,20,30]}"
   ]
  },
  {
   "cell_type": "code",
   "execution_count": 23,
   "id": "9a53992b",
   "metadata": {},
   "outputs": [
    {
     "data": {
      "text/plain": [
       "30"
      ]
     },
     "execution_count": 23,
     "metadata": {},
     "output_type": "execute_result"
    }
   ],
   "source": [
    "my_mixed_dict[\"key3\"][2] #burada sözlük içerisindeki listeye eriştik"
   ]
  },
  {
   "cell_type": "code",
   "execution_count": 24,
   "id": "b880a8c6",
   "metadata": {},
   "outputs": [],
   "source": [
    "last_dictionary= {\"k1\":10 ,\"k2\":[10,20,30,40,40],\"k3\":\"string\",\"k4\":{\"a\":100,\"b\":200}}"
   ]
  },
  {
   "cell_type": "code",
   "execution_count": 25,
   "id": "1864575d",
   "metadata": {},
   "outputs": [
    {
     "data": {
      "text/plain": [
       "200"
      ]
     },
     "execution_count": 25,
     "metadata": {},
     "output_type": "execute_result"
    }
   ],
   "source": [
    "last_dictionary[\"k4\"][\"b\"]"
   ]
  },
  {
   "cell_type": "code",
   "execution_count": 26,
   "id": "842dd801",
   "metadata": {},
   "outputs": [
    {
     "data": {
      "text/plain": [
       "40"
      ]
     },
     "execution_count": 26,
     "metadata": {},
     "output_type": "execute_result"
    }
   ],
   "source": [
    "last_dictionary[\"k2\"][3]"
   ]
  },
  {
   "cell_type": "markdown",
   "id": "5af0f355",
   "metadata": {},
   "source": [
    "# Sets"
   ]
  },
  {
   "cell_type": "code",
   "execution_count": 27,
   "id": "0f364812",
   "metadata": {},
   "outputs": [],
   "source": [
    "#Uniqe elements (yani her elemandan bir tane olacak ve sıra önemli değil)"
   ]
  },
  {
   "cell_type": "code",
   "execution_count": 28,
   "id": "3660f23c",
   "metadata": {},
   "outputs": [],
   "source": [
    "myList= [10,20,30,10,20,40,10,20,40]"
   ]
  },
  {
   "cell_type": "code",
   "execution_count": 29,
   "id": "4b29b262",
   "metadata": {},
   "outputs": [
    {
     "data": {
      "text/plain": [
       "9"
      ]
     },
     "execution_count": 29,
     "metadata": {},
     "output_type": "execute_result"
    }
   ],
   "source": [
    "len(myList)"
   ]
  },
  {
   "cell_type": "code",
   "execution_count": 30,
   "id": "997f517c",
   "metadata": {},
   "outputs": [
    {
     "data": {
      "text/plain": [
       "[10, 20, 30, 10, 20, 40, 10, 20, 40]"
      ]
     },
     "execution_count": 30,
     "metadata": {},
     "output_type": "execute_result"
    }
   ],
   "source": [
    "myList"
   ]
  },
  {
   "cell_type": "code",
   "execution_count": 31,
   "id": "712ffe94",
   "metadata": {},
   "outputs": [],
   "source": [
    "mySet=set(myList)"
   ]
  },
  {
   "cell_type": "code",
   "execution_count": 32,
   "id": "bd6d70d0",
   "metadata": {},
   "outputs": [
    {
     "data": {
      "text/plain": [
       "{10, 20, 30, 40}"
      ]
     },
     "execution_count": 32,
     "metadata": {},
     "output_type": "execute_result"
    }
   ],
   "source": [
    "mySet"
   ]
  },
  {
   "cell_type": "code",
   "execution_count": 33,
   "id": "2de5a6b3",
   "metadata": {},
   "outputs": [],
   "source": [
    "mySet = {10, 20, 30, 10, 20, 40, 10, 20, 40}"
   ]
  },
  {
   "cell_type": "code",
   "execution_count": 34,
   "id": "ed0e2190",
   "metadata": {},
   "outputs": [
    {
     "data": {
      "text/plain": [
       "{10, 20, 30, 40}"
      ]
     },
     "execution_count": 34,
     "metadata": {},
     "output_type": "execute_result"
    }
   ],
   "source": [
    "mySet"
   ]
  },
  {
   "cell_type": "code",
   "execution_count": 35,
   "id": "03a7663d",
   "metadata": {},
   "outputs": [],
   "source": [
    "mySet.add(10)"
   ]
  },
  {
   "cell_type": "code",
   "execution_count": 36,
   "id": "9358c6c9",
   "metadata": {},
   "outputs": [],
   "source": [
    "mySet.add(50)"
   ]
  },
  {
   "cell_type": "code",
   "execution_count": 37,
   "id": "b5f622a2",
   "metadata": {},
   "outputs": [
    {
     "data": {
      "text/plain": [
       "{10, 20, 30, 40, 50}"
      ]
     },
     "execution_count": 37,
     "metadata": {},
     "output_type": "execute_result"
    }
   ],
   "source": [
    "mySet"
   ]
  },
  {
   "cell_type": "code",
   "execution_count": 38,
   "id": "cdeca896",
   "metadata": {},
   "outputs": [],
   "source": [
    "#mySet[0] burada da index mantığı yok "
   ]
  },
  {
   "cell_type": "code",
   "execution_count": 39,
   "id": "90d61264",
   "metadata": {},
   "outputs": [],
   "source": [
    "mySet2= {30,40,50,60,70}"
   ]
  },
  {
   "cell_type": "code",
   "execution_count": 40,
   "id": "b4233a56",
   "metadata": {},
   "outputs": [
    {
     "data": {
      "text/plain": [
       "{10, 20, 30, 40, 50, 60, 70}"
      ]
     },
     "execution_count": 40,
     "metadata": {},
     "output_type": "execute_result"
    }
   ],
   "source": [
    "mySet.union(mySet2)"
   ]
  },
  {
   "cell_type": "code",
   "execution_count": 41,
   "id": "9deb1305",
   "metadata": {},
   "outputs": [
    {
     "data": {
      "text/plain": [
       "{30, 40, 50}"
      ]
     },
     "execution_count": 41,
     "metadata": {},
     "output_type": "execute_result"
    }
   ],
   "source": [
    "mySet.intersection(mySet2)"
   ]
  },
  {
   "cell_type": "code",
   "execution_count": 42,
   "id": "3d6e47a1",
   "metadata": {},
   "outputs": [],
   "source": [
    "countryList = [\"tr\",\"az\",\"ır\",\"iq\",\"sw\",\"fr\",\"de\",\"nl\",\"fr\",\"it\",\"tr\",\"de\"]"
   ]
  },
  {
   "cell_type": "code",
   "execution_count": 43,
   "id": "b660566b",
   "metadata": {},
   "outputs": [
    {
     "data": {
      "text/plain": [
       "12"
      ]
     },
     "execution_count": 43,
     "metadata": {},
     "output_type": "execute_result"
    }
   ],
   "source": [
    "len(countryList)"
   ]
  },
  {
   "cell_type": "code",
   "execution_count": 44,
   "id": "c4984678",
   "metadata": {},
   "outputs": [
    {
     "data": {
      "text/plain": [
       "9"
      ]
     },
     "execution_count": 44,
     "metadata": {},
     "output_type": "execute_result"
    }
   ],
   "source": [
    "len(set(countryList))"
   ]
  },
  {
   "cell_type": "code",
   "execution_count": 45,
   "id": "d977412d",
   "metadata": {},
   "outputs": [],
   "source": [
    "emptyList = []\n"
   ]
  },
  {
   "cell_type": "code",
   "execution_count": 46,
   "id": "cd8d28a0",
   "metadata": {},
   "outputs": [],
   "source": [
    "emptyList.append(10)\n",
    "emptyList.append(20)"
   ]
  },
  {
   "cell_type": "code",
   "execution_count": 47,
   "id": "19105830",
   "metadata": {},
   "outputs": [
    {
     "data": {
      "text/plain": [
       "[10, 20]"
      ]
     },
     "execution_count": 47,
     "metadata": {},
     "output_type": "execute_result"
    }
   ],
   "source": [
    "emptyList"
   ]
  },
  {
   "cell_type": "code",
   "execution_count": 48,
   "id": "fcc2a430",
   "metadata": {},
   "outputs": [
    {
     "data": {
      "text/plain": [
       "dict"
      ]
     },
     "execution_count": 48,
     "metadata": {},
     "output_type": "execute_result"
    }
   ],
   "source": [
    "emptySet = {}  \n",
    "#Here my goal is make a empty set but it create like a empty dictionary , so this is a problem\n",
    "type(emptySet)"
   ]
  },
  {
   "cell_type": "code",
   "execution_count": 49,
   "id": "b9ee9e99",
   "metadata": {},
   "outputs": [
    {
     "data": {
      "text/plain": [
       "set"
      ]
     },
     "execution_count": 49,
     "metadata": {},
     "output_type": "execute_result"
    }
   ],
   "source": [
    "emptySet= set() # this is solution for above\n",
    "type(emptySet) # now its type is set as normal "
   ]
  },
  {
   "cell_type": "code",
   "execution_count": 50,
   "id": "373323df",
   "metadata": {},
   "outputs": [],
   "source": [
    "emptySet.add(10)\n",
    "emptySet.add(10)\n",
    "emptySet.add(20)\n",
    "emptySet.add(40)"
   ]
  },
  {
   "cell_type": "code",
   "execution_count": 51,
   "id": "b7ceef90",
   "metadata": {},
   "outputs": [
    {
     "data": {
      "text/plain": [
       "{10, 20, 40}"
      ]
     },
     "execution_count": 51,
     "metadata": {},
     "output_type": "execute_result"
    }
   ],
   "source": [
    "emptySet"
   ]
  },
  {
   "cell_type": "markdown",
   "id": "29090430",
   "metadata": {},
   "source": [
    "# Tuples"
   ]
  },
  {
   "cell_type": "code",
   "execution_count": 52,
   "id": "94eab1f8",
   "metadata": {},
   "outputs": [],
   "source": [
    "myList = [10,\"a\",\"b\",3.14]"
   ]
  },
  {
   "cell_type": "code",
   "execution_count": 53,
   "id": "e484416d",
   "metadata": {},
   "outputs": [
    {
     "data": {
      "text/plain": [
       "10"
      ]
     },
     "execution_count": 53,
     "metadata": {},
     "output_type": "execute_result"
    }
   ],
   "source": [
    "myList[0]"
   ]
  },
  {
   "cell_type": "code",
   "execution_count": 54,
   "id": "f889925f",
   "metadata": {},
   "outputs": [],
   "source": [
    "myList[0]=100"
   ]
  },
  {
   "cell_type": "code",
   "execution_count": 55,
   "id": "9ce3546d",
   "metadata": {},
   "outputs": [
    {
     "data": {
      "text/plain": [
       "[100, 'a', 'b', 3.14]"
      ]
     },
     "execution_count": 55,
     "metadata": {},
     "output_type": "execute_result"
    }
   ],
   "source": [
    "myList"
   ]
  },
  {
   "cell_type": "code",
   "execution_count": 56,
   "id": "0bf4dd73",
   "metadata": {},
   "outputs": [],
   "source": [
    "#tuple"
   ]
  },
  {
   "cell_type": "code",
   "execution_count": 57,
   "id": "35f5279b",
   "metadata": {},
   "outputs": [],
   "source": [
    "myTuple= (10,\"a\",\"b\",3.14)"
   ]
  },
  {
   "cell_type": "code",
   "execution_count": 58,
   "id": "2f317cf9",
   "metadata": {},
   "outputs": [
    {
     "data": {
      "text/plain": [
       "tuple"
      ]
     },
     "execution_count": 58,
     "metadata": {},
     "output_type": "execute_result"
    }
   ],
   "source": [
    "type(myTuple)"
   ]
  },
  {
   "cell_type": "code",
   "execution_count": 59,
   "id": "455a60c7",
   "metadata": {},
   "outputs": [
    {
     "data": {
      "text/plain": [
       "10"
      ]
     },
     "execution_count": 59,
     "metadata": {},
     "output_type": "execute_result"
    }
   ],
   "source": [
    "myTuple[0]"
   ]
  },
  {
   "cell_type": "code",
   "execution_count": 60,
   "id": "3d3d2657",
   "metadata": {},
   "outputs": [],
   "source": [
    "#myTuple[0]=100  immutable özelliği var burada define edilen sayı değiştirilmiyor"
   ]
  },
  {
   "cell_type": "code",
   "execution_count": 61,
   "id": "11ff6a27",
   "metadata": {},
   "outputs": [
    {
     "data": {
      "text/plain": [
       "1"
      ]
     },
     "execution_count": 61,
     "metadata": {},
     "output_type": "execute_result"
    }
   ],
   "source": [
    "myTuple.count(\"a\")"
   ]
  },
  {
   "cell_type": "code",
   "execution_count": 62,
   "id": "90348bf6",
   "metadata": {},
   "outputs": [
    {
     "data": {
      "text/plain": [
       "1"
      ]
     },
     "execution_count": 62,
     "metadata": {},
     "output_type": "execute_result"
    }
   ],
   "source": [
    "myTuple.index(\"a\")"
   ]
  },
  {
   "cell_type": "code",
   "execution_count": 63,
   "id": "b1a731de",
   "metadata": {},
   "outputs": [],
   "source": [
    "#çoğu python kütüphanesinde tuples yapısı kullanılıyor , tuple yapısını listeye çevirebiliriz"
   ]
  },
  {
   "cell_type": "markdown",
   "id": "cb772de6",
   "metadata": {},
   "source": [
    "# Bool"
   ]
  },
  {
   "cell_type": "code",
   "execution_count": 64,
   "id": "39314cc2",
   "metadata": {},
   "outputs": [],
   "source": [
    "myBoolean = True"
   ]
  },
  {
   "cell_type": "code",
   "execution_count": 65,
   "id": "0d919438",
   "metadata": {},
   "outputs": [
    {
     "data": {
      "text/plain": [
       "True"
      ]
     },
     "execution_count": 65,
     "metadata": {},
     "output_type": "execute_result"
    }
   ],
   "source": [
    "myBoolean"
   ]
  },
  {
   "cell_type": "code",
   "execution_count": 66,
   "id": "9d078471",
   "metadata": {},
   "outputs": [
    {
     "data": {
      "text/plain": [
       "bool"
      ]
     },
     "execution_count": 66,
     "metadata": {},
     "output_type": "execute_result"
    }
   ],
   "source": [
    "type(myBoolean)"
   ]
  },
  {
   "cell_type": "code",
   "execution_count": 67,
   "id": "08232801",
   "metadata": {},
   "outputs": [
    {
     "data": {
      "text/plain": [
       "True"
      ]
     },
     "execution_count": 67,
     "metadata": {},
     "output_type": "execute_result"
    }
   ],
   "source": [
    "5 > 3"
   ]
  },
  {
   "cell_type": "code",
   "execution_count": 68,
   "id": "7e242852",
   "metadata": {},
   "outputs": [
    {
     "data": {
      "text/plain": [
       "False"
      ]
     },
     "execution_count": 68,
     "metadata": {},
     "output_type": "execute_result"
    }
   ],
   "source": [
    "21< 12"
   ]
  },
  {
   "cell_type": "code",
   "execution_count": 75,
   "id": "42c4c6e8",
   "metadata": {},
   "outputs": [
    {
     "name": "stdout",
     "output_type": "stream",
     "text": [
      "yasinizi giriniz : 14\n"
     ]
    }
   ],
   "source": [
    "Kullanici_yas = int(input(\"yasinizi giriniz : \"))\n"
   ]
  },
  {
   "cell_type": "code",
   "execution_count": 76,
   "id": "0a96eaa1",
   "metadata": {},
   "outputs": [
    {
     "data": {
      "text/plain": [
       "False"
      ]
     },
     "execution_count": 76,
     "metadata": {},
     "output_type": "execute_result"
    }
   ],
   "source": [
    "Kullanici_yas > 21"
   ]
  },
  {
   "cell_type": "code",
   "execution_count": null,
   "id": "39f86c1f",
   "metadata": {},
   "outputs": [],
   "source": []
  }
 ],
 "metadata": {
  "kernelspec": {
   "display_name": "Python 3 (ipykernel)",
   "language": "python",
   "name": "python3"
  },
  "language_info": {
   "codemirror_mode": {
    "name": "ipython",
    "version": 3
   },
   "file_extension": ".py",
   "mimetype": "text/x-python",
   "name": "python",
   "nbconvert_exporter": "python",
   "pygments_lexer": "ipython3",
   "version": "3.11.5"
  }
 },
 "nbformat": 4,
 "nbformat_minor": 5
}
