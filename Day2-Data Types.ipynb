{
 "cells": [
  {
   "cell_type": "markdown",
   "id": "5c86589c",
   "metadata": {},
   "source": [
    "# Numbers"
   ]
  },
  {
   "cell_type": "code",
   "execution_count": 1,
   "id": "ee80546c",
   "metadata": {},
   "outputs": [],
   "source": [
    "myAge=29\n"
   ]
  },
  {
   "cell_type": "code",
   "execution_count": 2,
   "id": "e29d8546",
   "metadata": {},
   "outputs": [
    {
     "data": {
      "text/plain": [
       "int"
      ]
     },
     "execution_count": 2,
     "metadata": {},
     "output_type": "execute_result"
    }
   ],
   "source": [
    "type(myAge)"
   ]
  },
  {
   "cell_type": "code",
   "execution_count": 3,
   "id": "bc756b59",
   "metadata": {},
   "outputs": [
    {
     "data": {
      "text/plain": [
       "float"
      ]
     },
     "execution_count": 3,
     "metadata": {},
     "output_type": "execute_result"
    }
   ],
   "source": [
    "type(3.14)\n"
   ]
  },
  {
   "cell_type": "code",
   "execution_count": 4,
   "id": "4a7f19b5",
   "metadata": {},
   "outputs": [],
   "source": [
    "x= 10"
   ]
  },
  {
   "cell_type": "code",
   "execution_count": 5,
   "id": "296dc460",
   "metadata": {},
   "outputs": [
    {
     "data": {
      "text/plain": [
       "float"
      ]
     },
     "execution_count": 5,
     "metadata": {},
     "output_type": "execute_result"
    }
   ],
   "source": [
    "type(15/x)"
   ]
  },
  {
   "cell_type": "code",
   "execution_count": 6,
   "id": "f4eeddda",
   "metadata": {},
   "outputs": [],
   "source": [
    "myFloat = 1.3442344"
   ]
  },
  {
   "cell_type": "code",
   "execution_count": 7,
   "id": "799a9924",
   "metadata": {},
   "outputs": [
    {
     "data": {
      "text/plain": [
       "float"
      ]
     },
     "execution_count": 7,
     "metadata": {},
     "output_type": "execute_result"
    }
   ],
   "source": [
    "type(myFloat)"
   ]
  },
  {
   "cell_type": "markdown",
   "id": "7e9a107c",
   "metadata": {},
   "source": [
    "# # int vs Float\n"
   ]
  },
  {
   "cell_type": "code",
   "execution_count": 8,
   "id": "57c20acb",
   "metadata": {},
   "outputs": [
    {
     "data": {
      "text/plain": [
       "10.0"
      ]
     },
     "execution_count": 8,
     "metadata": {},
     "output_type": "execute_result"
    }
   ],
   "source": [
    "40/4\n"
   ]
  },
  {
   "cell_type": "code",
   "execution_count": 9,
   "id": "01ce31ec",
   "metadata": {},
   "outputs": [
    {
     "data": {
      "text/plain": [
       "float"
      ]
     },
     "execution_count": 9,
     "metadata": {},
     "output_type": "execute_result"
    }
   ],
   "source": [
    "type(40/4)"
   ]
  },
  {
   "cell_type": "code",
   "execution_count": 10,
   "id": "2dcf7922",
   "metadata": {},
   "outputs": [
    {
     "data": {
      "text/plain": [
       "int"
      ]
     },
     "execution_count": 10,
     "metadata": {},
     "output_type": "execute_result"
    }
   ],
   "source": [
    "type(4)"
   ]
  },
  {
   "cell_type": "code",
   "execution_count": 11,
   "id": "197cca92",
   "metadata": {},
   "outputs": [],
   "source": [
    "# işlem önceliği var"
   ]
  },
  {
   "cell_type": "code",
   "execution_count": 12,
   "id": "b6c364eb",
   "metadata": {},
   "outputs": [
    {
     "data": {
      "text/plain": [
       "32"
      ]
     },
     "execution_count": 12,
     "metadata": {},
     "output_type": "execute_result"
    }
   ],
   "source": [
    "2 + 3*10 "
   ]
  },
  {
   "cell_type": "code",
   "execution_count": 13,
   "id": "74363f7d",
   "metadata": {},
   "outputs": [
    {
     "data": {
      "text/plain": [
       "32"
      ]
     },
     "execution_count": 13,
     "metadata": {},
     "output_type": "execute_result"
    }
   ],
   "source": [
    "2**5 #2 üssü 5"
   ]
  },
  {
   "cell_type": "code",
   "execution_count": 14,
   "id": "62ffd272",
   "metadata": {},
   "outputs": [
    {
     "data": {
      "text/plain": [
       "1"
      ]
     },
     "execution_count": 14,
     "metadata": {},
     "output_type": "execute_result"
    }
   ],
   "source": [
    "10%3 #ramainder --(kalan işlemi)"
   ]
  },
  {
   "cell_type": "markdown",
   "id": "d987a776",
   "metadata": {},
   "source": [
    "# Strings"
   ]
  },
  {
   "cell_type": "code",
   "execution_count": 17,
   "id": "58fd55db",
   "metadata": {},
   "outputs": [
    {
     "data": {
      "text/plain": [
       "'Hello World'"
      ]
     },
     "execution_count": 17,
     "metadata": {},
     "output_type": "execute_result"
    }
   ],
   "source": [
    "\"Hello World\""
   ]
  },
  {
   "cell_type": "code",
   "execution_count": 53,
   "id": "11751c6f",
   "metadata": {},
   "outputs": [
    {
     "name": "stdout",
     "output_type": "stream",
     "text": [
      "Hello World\n"
     ]
    }
   ],
   "source": [
    "print(\"Hello World\")"
   ]
  },
  {
   "cell_type": "code",
   "execution_count": 54,
   "id": "795cf30c",
   "metadata": {},
   "outputs": [],
   "source": [
    "name= \"murat Kaynar\""
   ]
  },
  {
   "cell_type": "code",
   "execution_count": 55,
   "id": "753930fd",
   "metadata": {},
   "outputs": [
    {
     "data": {
      "text/plain": [
       "str"
      ]
     },
     "execution_count": 55,
     "metadata": {},
     "output_type": "execute_result"
    }
   ],
   "source": [
    "type(name)"
   ]
  },
  {
   "cell_type": "code",
   "execution_count": 56,
   "id": "e887ff68",
   "metadata": {},
   "outputs": [
    {
     "data": {
      "text/plain": [
       "'Murat kaynar'"
      ]
     },
     "execution_count": 56,
     "metadata": {},
     "output_type": "execute_result"
    }
   ],
   "source": [
    "name.capitalize()"
   ]
  },
  {
   "cell_type": "code",
   "execution_count": 57,
   "id": "f7df2328",
   "metadata": {},
   "outputs": [],
   "source": [
    "x =1233"
   ]
  },
  {
   "cell_type": "code",
   "execution_count": 58,
   "id": "b2851fb1",
   "metadata": {},
   "outputs": [
    {
     "data": {
      "text/plain": [
       "5"
      ]
     },
     "execution_count": 58,
     "metadata": {},
     "output_type": "execute_result"
    }
   ],
   "source": [
    "x.bit_count()"
   ]
  },
  {
   "cell_type": "markdown",
   "id": "9b481cd9",
   "metadata": {},
   "source": [
    "##String metodları"
   ]
  },
  {
   "cell_type": "code",
   "execution_count": 59,
   "id": "d557af13",
   "metadata": {},
   "outputs": [
    {
     "data": {
      "text/plain": [
       "3"
      ]
     },
     "execution_count": 59,
     "metadata": {},
     "output_type": "execute_result"
    }
   ],
   "source": [
    "name.count(\"a\")"
   ]
  },
  {
   "cell_type": "code",
   "execution_count": 60,
   "id": "72c207c2",
   "metadata": {},
   "outputs": [],
   "source": [
    "#help(name.count)  bu help metodu istediğimiz metodla ilhili bilgi veriyor"
   ]
  },
  {
   "cell_type": "code",
   "execution_count": 61,
   "id": "6997a420",
   "metadata": {},
   "outputs": [
    {
     "data": {
      "text/plain": [
       "0"
      ]
     },
     "execution_count": 61,
     "metadata": {},
     "output_type": "execute_result"
    }
   ],
   "source": [
    "name.count(\"l\")"
   ]
  },
  {
   "cell_type": "code",
   "execution_count": 62,
   "id": "5400c209",
   "metadata": {},
   "outputs": [
    {
     "data": {
      "text/plain": [
       "'MURAT KAYNAR'"
      ]
     },
     "execution_count": 62,
     "metadata": {},
     "output_type": "execute_result"
    }
   ],
   "source": [
    "name.upper()"
   ]
  },
  {
   "cell_type": "code",
   "execution_count": 63,
   "id": "df606c8f",
   "metadata": {},
   "outputs": [],
   "source": [
    "nameUpper = name.upper()"
   ]
  },
  {
   "cell_type": "code",
   "execution_count": 64,
   "id": "bfebe932",
   "metadata": {},
   "outputs": [
    {
     "data": {
      "text/plain": [
       "'MURAT KAYNAR'"
      ]
     },
     "execution_count": 64,
     "metadata": {},
     "output_type": "execute_result"
    }
   ],
   "source": [
    "nameUpper"
   ]
  },
  {
   "cell_type": "code",
   "execution_count": 65,
   "id": "53e8facb",
   "metadata": {},
   "outputs": [],
   "source": [
    "x=30 \n",
    "y=25\n",
    "z=x+y"
   ]
  },
  {
   "cell_type": "code",
   "execution_count": 66,
   "id": "b6a1b715",
   "metadata": {},
   "outputs": [
    {
     "data": {
      "text/plain": [
       "55"
      ]
     },
     "execution_count": 66,
     "metadata": {},
     "output_type": "execute_result"
    }
   ],
   "source": [
    "z"
   ]
  },
  {
   "cell_type": "code",
   "execution_count": 68,
   "id": "cd234703",
   "metadata": {},
   "outputs": [
    {
     "data": {
      "text/plain": [
       "12"
      ]
     },
     "execution_count": 68,
     "metadata": {},
     "output_type": "execute_result"
    }
   ],
   "source": [
    "len(name)  #namenin uzunluğunu veriyor;"
   ]
  },
  {
   "cell_type": "code",
   "execution_count": 70,
   "id": "5e76048a",
   "metadata": {},
   "outputs": [
    {
     "name": "stdout",
     "output_type": "stream",
     "text": [
      "Murat  Kaynar \n"
     ]
    }
   ],
   "source": [
    "print(\"Murat  Kaynar \")"
   ]
  }
 ],
 "metadata": {
  "kernelspec": {
   "display_name": "Python 3 (ipykernel)",
   "language": "python",
   "name": "python3"
  },
  "language_info": {
   "codemirror_mode": {
    "name": "ipython",
    "version": 3
   },
   "file_extension": ".py",
   "mimetype": "text/x-python",
   "name": "python",
   "nbconvert_exporter": "python",
   "pygments_lexer": "ipython3",
   "version": "3.11.5"
  }
 },
 "nbformat": 4,
 "nbformat_minor": 5
}
