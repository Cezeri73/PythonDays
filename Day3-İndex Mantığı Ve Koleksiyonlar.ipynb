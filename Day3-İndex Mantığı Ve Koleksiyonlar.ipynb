{
 "cells": [
  {
   "cell_type": "markdown",
   "id": "bdec5e94",
   "metadata": {},
   "source": [
    "# İndex\n"
   ]
  },
  {
   "cell_type": "code",
   "execution_count": 1,
   "id": "a85d1184",
   "metadata": {},
   "outputs": [],
   "source": [
    "myString = \"Hello python\""
   ]
  },
  {
   "cell_type": "code",
   "execution_count": 3,
   "id": "e467a48a",
   "metadata": {},
   "outputs": [
    {
     "data": {
      "text/plain": [
       "'H'"
      ]
     },
     "execution_count": 3,
     "metadata": {},
     "output_type": "execute_result"
    }
   ],
   "source": [
    "myString[0]"
   ]
  },
  {
   "cell_type": "code",
   "execution_count": 4,
   "id": "6d423816",
   "metadata": {},
   "outputs": [
    {
     "data": {
      "text/plain": [
       "'e'"
      ]
     },
     "execution_count": 4,
     "metadata": {},
     "output_type": "execute_result"
    }
   ],
   "source": [
    "myString[1]"
   ]
  },
  {
   "cell_type": "code",
   "execution_count": 6,
   "id": "a63ab9a9",
   "metadata": {},
   "outputs": [
    {
     "data": {
      "text/plain": [
       "'n'"
      ]
     },
     "execution_count": 6,
     "metadata": {},
     "output_type": "execute_result"
    }
   ],
   "source": [
    "myString[11]"
   ]
  },
  {
   "cell_type": "code",
   "execution_count": 7,
   "id": "a6b482c0",
   "metadata": {},
   "outputs": [
    {
     "data": {
      "text/plain": [
       "12"
      ]
     },
     "execution_count": 7,
     "metadata": {},
     "output_type": "execute_result"
    }
   ],
   "source": [
    "len(myString)"
   ]
  },
  {
   "cell_type": "code",
   "execution_count": 8,
   "id": "156eb76d",
   "metadata": {},
   "outputs": [],
   "source": [
    "myName=\"Murat Kaynar\""
   ]
  },
  {
   "cell_type": "code",
   "execution_count": 9,
   "id": "ca9ac053",
   "metadata": {},
   "outputs": [
    {
     "data": {
      "text/plain": [
       "11"
      ]
     },
     "execution_count": 9,
     "metadata": {},
     "output_type": "execute_result"
    }
   ],
   "source": [
    "len(myName)-1"
   ]
  },
  {
   "cell_type": "code",
   "execution_count": 10,
   "id": "cd6a766b",
   "metadata": {},
   "outputs": [
    {
     "data": {
      "text/plain": [
       "'r'"
      ]
     },
     "execution_count": 10,
     "metadata": {},
     "output_type": "execute_result"
    }
   ],
   "source": [
    "myName[11]"
   ]
  },
  {
   "cell_type": "code",
   "execution_count": 12,
   "id": "918b6534",
   "metadata": {},
   "outputs": [
    {
     "data": {
      "text/plain": [
       "'r'"
      ]
     },
     "execution_count": 12,
     "metadata": {},
     "output_type": "execute_result"
    }
   ],
   "source": [
    "myName[-1] #Burası en son elemanı işaret ediyor"
   ]
  },
  {
   "cell_type": "code",
   "execution_count": 13,
   "id": "c301813a",
   "metadata": {},
   "outputs": [],
   "source": [
    "barcode =\"ABCG9D0H0D0D\""
   ]
  },
  {
   "cell_type": "code",
   "execution_count": 14,
   "id": "cb7fdc8f",
   "metadata": {},
   "outputs": [
    {
     "data": {
      "text/plain": [
       "'A'"
      ]
     },
     "execution_count": 14,
     "metadata": {},
     "output_type": "execute_result"
    }
   ],
   "source": [
    "barcode[0]"
   ]
  },
  {
   "cell_type": "code",
   "execution_count": 15,
   "id": "5922b8cc",
   "metadata": {},
   "outputs": [
    {
     "data": {
      "text/plain": [
       "'D'"
      ]
     },
     "execution_count": 15,
     "metadata": {},
     "output_type": "execute_result"
    }
   ],
   "source": [
    "barcode[-1]"
   ]
  },
  {
   "cell_type": "code",
   "execution_count": 16,
   "id": "634e20ee",
   "metadata": {},
   "outputs": [
    {
     "data": {
      "text/plain": [
       "'AB'"
      ]
     },
     "execution_count": 16,
     "metadata": {},
     "output_type": "execute_result"
    }
   ],
   "source": [
    "\"A\" + \"B\""
   ]
  },
  {
   "cell_type": "code",
   "execution_count": 17,
   "id": "a6ae7284",
   "metadata": {},
   "outputs": [],
   "source": [
    "name = \"Murat\""
   ]
  },
  {
   "cell_type": "code",
   "execution_count": 18,
   "id": "74451179",
   "metadata": {},
   "outputs": [],
   "source": [
    "surname =\"Kaynar\""
   ]
  },
  {
   "cell_type": "code",
   "execution_count": 20,
   "id": "d34effb5",
   "metadata": {},
   "outputs": [],
   "source": [
    "fullname = name + surname"
   ]
  },
  {
   "cell_type": "code",
   "execution_count": 21,
   "id": "6058017d",
   "metadata": {},
   "outputs": [
    {
     "data": {
      "text/plain": [
       "'MuratKaynar'"
      ]
     },
     "execution_count": 21,
     "metadata": {},
     "output_type": "execute_result"
    }
   ],
   "source": [
    "fullname\n"
   ]
  },
  {
   "cell_type": "code",
   "execution_count": 22,
   "id": "d1483ffb",
   "metadata": {},
   "outputs": [
    {
     "data": {
      "text/plain": [
       "'MuratKaynarMuratKaynar'"
      ]
     },
     "execution_count": 22,
     "metadata": {},
     "output_type": "execute_result"
    }
   ],
   "source": [
    "fullname*2"
   ]
  },
  {
   "cell_type": "code",
   "execution_count": 23,
   "id": "1249f748",
   "metadata": {},
   "outputs": [
    {
     "data": {
      "text/plain": [
       "'aaaaa'"
      ]
     },
     "execution_count": 23,
     "metadata": {},
     "output_type": "execute_result"
    }
   ],
   "source": [
    "\"a\" *5"
   ]
  },
  {
   "cell_type": "code",
   "execution_count": 27,
   "id": "ea400464",
   "metadata": {},
   "outputs": [],
   "source": [
    "# Slicing , start,ng index , stopping index, stepping size"
   ]
  },
  {
   "cell_type": "code",
   "execution_count": 26,
   "id": "e17b7710",
   "metadata": {},
   "outputs": [
    {
     "data": {
      "text/plain": [
       "'ABCG9D0H0D0D'"
      ]
     },
     "execution_count": 26,
     "metadata": {},
     "output_type": "execute_result"
    }
   ],
   "source": [
    "barcode[::]"
   ]
  },
  {
   "cell_type": "code",
   "execution_count": 29,
   "id": "61f6b5c9",
   "metadata": {},
   "outputs": [],
   "source": [
    "#barcode[Starting index: stopping index : steppingsize]"
   ]
  },
  {
   "cell_type": "code",
   "execution_count": 30,
   "id": "15a0caa7",
   "metadata": {},
   "outputs": [
    {
     "data": {
      "text/plain": [
       "'G9D0H0D0D'"
      ]
     },
     "execution_count": 30,
     "metadata": {},
     "output_type": "execute_result"
    }
   ],
   "source": [
    "barcode[3::]"
   ]
  },
  {
   "cell_type": "code",
   "execution_count": 31,
   "id": "63a5f98f",
   "metadata": {},
   "outputs": [],
   "source": [
    "#Slicing Örnekleri"
   ]
  },
  {
   "cell_type": "code",
   "execution_count": 32,
   "id": "69eb2d82",
   "metadata": {},
   "outputs": [
    {
     "data": {
      "text/plain": [
       "'ABC'"
      ]
     },
     "execution_count": 32,
     "metadata": {},
     "output_type": "execute_result"
    }
   ],
   "source": [
    "barcode[:3:] #Burada 3. indexe kadar alıyor (3. almıyor) ABC yi alıyor . "
   ]
  },
  {
   "cell_type": "code",
   "execution_count": 36,
   "id": "b62fe0bc",
   "metadata": {},
   "outputs": [
    {
     "data": {
      "text/plain": [
       "'AC9000'"
      ]
     },
     "execution_count": 36,
     "metadata": {},
     "output_type": "execute_result"
    }
   ],
   "source": [
    "barcode[::2]"
   ]
  },
  {
   "cell_type": "code",
   "execution_count": 42,
   "id": "6d8317d6",
   "metadata": {},
   "outputs": [
    {
     "data": {
      "text/plain": [
       "'G9'"
      ]
     },
     "execution_count": 42,
     "metadata": {},
     "output_type": "execute_result"
    }
   ],
   "source": [
    "barcode[3:5:]   #3. dahil 5 e kadar (5 dahil değil)"
   ]
  },
  {
   "cell_type": "code",
   "execution_count": 43,
   "id": "b56ac3be",
   "metadata": {},
   "outputs": [
    {
     "data": {
      "text/plain": [
       "'G'"
      ]
     },
     "execution_count": 43,
     "metadata": {},
     "output_type": "execute_result"
    }
   ],
   "source": [
    "barcode[3] #Burada 3. dahil oluyor "
   ]
  },
  {
   "cell_type": "code",
   "execution_count": 44,
   "id": "9e9efe51",
   "metadata": {},
   "outputs": [
    {
     "data": {
      "text/plain": [
       "'BGDH'"
      ]
     },
     "execution_count": 44,
     "metadata": {},
     "output_type": "execute_result"
    }
   ],
   "source": [
    "barcode[1:8:2]"
   ]
  },
  {
   "cell_type": "code",
   "execution_count": 50,
   "id": "1d4982f3",
   "metadata": {},
   "outputs": [
    {
     "data": {
      "text/plain": [
       "3"
      ]
     },
     "execution_count": 50,
     "metadata": {},
     "output_type": "execute_result"
    }
   ],
   "source": [
    "name.index(\"a\")"
   ]
  },
  {
   "cell_type": "code",
   "execution_count": 53,
   "id": "ee665672",
   "metadata": {},
   "outputs": [
    {
     "name": "stdout",
     "output_type": "stream",
     "text": [
      "Help on built-in function index:\n",
      "\n",
      "index(...) method of builtins.str instance\n",
      "    S.index(sub[, start[, end]]) -> int\n",
      "    \n",
      "    Return the lowest index in S where substring sub is found,\n",
      "    such that sub is contained within S[start:end].  Optional\n",
      "    arguments start and end are interpreted as in slice notation.\n",
      "    \n",
      "    Raises ValueError when the substring is not found.\n",
      "\n"
     ]
    }
   ],
   "source": [
    "help(name.index)"
   ]
  },
  {
   "cell_type": "code",
   "execution_count": 56,
   "id": "15bf3979",
   "metadata": {},
   "outputs": [
    {
     "data": {
      "text/plain": [
       "0"
      ]
     },
     "execution_count": 56,
     "metadata": {},
     "output_type": "execute_result"
    }
   ],
   "source": [
    "name.index(\"M\")"
   ]
  },
  {
   "cell_type": "code",
   "execution_count": 57,
   "id": "f990f3f8",
   "metadata": {},
   "outputs": [],
   "source": [
    "#splittting"
   ]
  },
  {
   "cell_type": "code",
   "execution_count": 58,
   "id": "57a60176",
   "metadata": {},
   "outputs": [
    {
     "data": {
      "text/plain": [
       "['Murat']"
      ]
     },
     "execution_count": 58,
     "metadata": {},
     "output_type": "execute_result"
    }
   ],
   "source": [
    "name.split()"
   ]
  },
  {
   "cell_type": "code",
   "execution_count": 60,
   "id": "7c50fdc4",
   "metadata": {},
   "outputs": [
    {
     "data": {
      "text/plain": [
       "list"
      ]
     },
     "execution_count": 60,
     "metadata": {},
     "output_type": "execute_result"
    }
   ],
   "source": [
    "type(name.split())"
   ]
  },
  {
   "cell_type": "code",
   "execution_count": 102,
   "id": "bb59e669",
   "metadata": {},
   "outputs": [
    {
     "data": {
      "text/plain": [
       "['Hello', 'python']"
      ]
     },
     "execution_count": 102,
     "metadata": {},
     "output_type": "execute_result"
    }
   ],
   "source": [
    "myString.split()"
   ]
  },
  {
   "cell_type": "code",
   "execution_count": 103,
   "id": "b56e3c98",
   "metadata": {},
   "outputs": [
    {
     "data": {
      "text/plain": [
       "list"
      ]
     },
     "execution_count": 103,
     "metadata": {},
     "output_type": "execute_result"
    }
   ],
   "source": [
    "type(myString.split())"
   ]
  },
  {
   "cell_type": "code",
   "execution_count": 104,
   "id": "70287e9a",
   "metadata": {},
   "outputs": [],
   "source": [
    "#myString[0]=\"a\"   burası değiştirilmiyor "
   ]
  },
  {
   "cell_type": "code",
   "execution_count": 105,
   "id": "b3cc18ec",
   "metadata": {},
   "outputs": [],
   "source": [
    "#immutable -- değiştirilmezlik özelliği"
   ]
  },
  {
   "cell_type": "markdown",
   "id": "0c8dea82",
   "metadata": {},
   "source": [
    "\n",
    "# Lists"
   ]
  },
  {
   "cell_type": "code",
   "execution_count": 106,
   "id": "addbf31c",
   "metadata": {},
   "outputs": [],
   "source": [
    "myList= [10,20,30,40]"
   ]
  },
  {
   "cell_type": "code",
   "execution_count": 107,
   "id": "1c5ee8cc",
   "metadata": {},
   "outputs": [
    {
     "data": {
      "text/plain": [
       "list"
      ]
     },
     "execution_count": 107,
     "metadata": {},
     "output_type": "execute_result"
    }
   ],
   "source": [
    "type(myList)"
   ]
  },
  {
   "cell_type": "code",
   "execution_count": 108,
   "id": "d6828376",
   "metadata": {},
   "outputs": [],
   "source": [
    "x=15\n",
    "y=25\n",
    "z=35"
   ]
  },
  {
   "cell_type": "code",
   "execution_count": 109,
   "id": "98b46c18",
   "metadata": {},
   "outputs": [],
   "source": [
    "myList=[x,y,z]"
   ]
  },
  {
   "cell_type": "code",
   "execution_count": 110,
   "id": "d0dd8f7f",
   "metadata": {},
   "outputs": [
    {
     "data": {
      "text/plain": [
       "[15, 25, 35]"
      ]
     },
     "execution_count": 110,
     "metadata": {},
     "output_type": "execute_result"
    }
   ],
   "source": [
    "myList"
   ]
  },
  {
   "cell_type": "code",
   "execution_count": 111,
   "id": "bd9c0c3e",
   "metadata": {},
   "outputs": [],
   "source": [
    "myList[0]=5"
   ]
  },
  {
   "cell_type": "code",
   "execution_count": 112,
   "id": "84f1a259",
   "metadata": {},
   "outputs": [],
   "source": [
    "myList[0]=155"
   ]
  },
  {
   "cell_type": "code",
   "execution_count": 113,
   "id": "06dd2b39",
   "metadata": {},
   "outputs": [
    {
     "data": {
      "text/plain": [
       "[155, 25, 35]"
      ]
     },
     "execution_count": 113,
     "metadata": {},
     "output_type": "execute_result"
    }
   ],
   "source": [
    "myList"
   ]
  },
  {
   "cell_type": "code",
   "execution_count": 114,
   "id": "638de9c6",
   "metadata": {},
   "outputs": [
    {
     "data": {
      "text/plain": [
       "35"
      ]
     },
     "execution_count": 114,
     "metadata": {},
     "output_type": "execute_result"
    }
   ],
   "source": [
    "myList[-1]"
   ]
  },
  {
   "cell_type": "code",
   "execution_count": 115,
   "id": "51c49720",
   "metadata": {},
   "outputs": [],
   "source": [
    "myList.append(5)"
   ]
  },
  {
   "cell_type": "code",
   "execution_count": 116,
   "id": "7a9e26c6",
   "metadata": {},
   "outputs": [],
   "source": [
    "mylist.clear()"
   ]
  },
  {
   "cell_type": "code",
   "execution_count": 117,
   "id": "fa1d5891",
   "metadata": {},
   "outputs": [
    {
     "data": {
      "text/plain": [
       "[]"
      ]
     },
     "execution_count": 117,
     "metadata": {},
     "output_type": "execute_result"
    }
   ],
   "source": [
    "mylist"
   ]
  },
  {
   "cell_type": "code",
   "execution_count": 118,
   "id": "5efe5fc3",
   "metadata": {},
   "outputs": [
    {
     "data": {
      "text/plain": [
       "[155, 25, 35, 5]"
      ]
     },
     "execution_count": 118,
     "metadata": {},
     "output_type": "execute_result"
    }
   ],
   "source": [
    "myList"
   ]
  },
  {
   "cell_type": "code",
   "execution_count": 119,
   "id": "7eb5ccc3",
   "metadata": {},
   "outputs": [
    {
     "data": {
      "text/plain": [
       "0"
      ]
     },
     "execution_count": 119,
     "metadata": {},
     "output_type": "execute_result"
    }
   ],
   "source": [
    "myList.count(1)"
   ]
  },
  {
   "cell_type": "code",
   "execution_count": 120,
   "id": "99541dd3",
   "metadata": {},
   "outputs": [
    {
     "data": {
      "text/plain": [
       "1"
      ]
     },
     "execution_count": 120,
     "metadata": {},
     "output_type": "execute_result"
    }
   ],
   "source": [
    "myList.count(5)"
   ]
  },
  {
   "cell_type": "code",
   "execution_count": 121,
   "id": "c934dffc",
   "metadata": {},
   "outputs": [
    {
     "data": {
      "text/plain": [
       "3"
      ]
     },
     "execution_count": 121,
     "metadata": {},
     "output_type": "execute_result"
    }
   ],
   "source": [
    "myList.index(5)"
   ]
  },
  {
   "cell_type": "code",
   "execution_count": 122,
   "id": "8e5d9dc9",
   "metadata": {},
   "outputs": [
    {
     "name": "stdout",
     "output_type": "stream",
     "text": [
      "Help on built-in function insert:\n",
      "\n",
      "insert(index, object, /) method of builtins.list instance\n",
      "    Insert object before index.\n",
      "\n"
     ]
    }
   ],
   "source": [
    "help(myList.insert)"
   ]
  },
  {
   "cell_type": "code",
   "execution_count": 123,
   "id": "c2b9ef19",
   "metadata": {},
   "outputs": [],
   "source": [
    "myList.insert(4,400)"
   ]
  },
  {
   "cell_type": "code",
   "execution_count": 124,
   "id": "ebec32b9",
   "metadata": {},
   "outputs": [
    {
     "data": {
      "text/plain": [
       "[155, 25, 35, 5, 400]"
      ]
     },
     "execution_count": 124,
     "metadata": {},
     "output_type": "execute_result"
    }
   ],
   "source": [
    "myList"
   ]
  },
  {
   "cell_type": "code",
   "execution_count": 127,
   "id": "2fec4a69",
   "metadata": {},
   "outputs": [
    {
     "data": {
      "text/plain": [
       "5"
      ]
     },
     "execution_count": 127,
     "metadata": {},
     "output_type": "execute_result"
    }
   ],
   "source": [
    "myList.pop() # Pop son elemanı çıkarıyor"
   ]
  },
  {
   "cell_type": "code",
   "execution_count": 130,
   "id": "71160fed",
   "metadata": {},
   "outputs": [
    {
     "name": "stdout",
     "output_type": "stream",
     "text": [
      "Help on built-in function remove:\n",
      "\n",
      "remove(value, /) method of builtins.list instance\n",
      "    Remove first occurrence of value.\n",
      "    \n",
      "    Raises ValueError if the value is not present.\n",
      "\n"
     ]
    }
   ],
   "source": [
    "help(myList.remove)"
   ]
  },
  {
   "cell_type": "code",
   "execution_count": 131,
   "id": "12efa217",
   "metadata": {},
   "outputs": [],
   "source": [
    "myList.remove(155)"
   ]
  },
  {
   "cell_type": "code",
   "execution_count": 132,
   "id": "505a5a0e",
   "metadata": {},
   "outputs": [
    {
     "data": {
      "text/plain": [
       "[25, 35]"
      ]
     },
     "execution_count": 132,
     "metadata": {},
     "output_type": "execute_result"
    }
   ],
   "source": [
    "myList"
   ]
  },
  {
   "cell_type": "code",
   "execution_count": 135,
   "id": "6140230b",
   "metadata": {},
   "outputs": [],
   "source": [
    "myList.reverse()"
   ]
  },
  {
   "cell_type": "code",
   "execution_count": 136,
   "id": "98b81bea",
   "metadata": {},
   "outputs": [
    {
     "data": {
      "text/plain": [
       "[35, 25]"
      ]
     },
     "execution_count": 136,
     "metadata": {},
     "output_type": "execute_result"
    }
   ],
   "source": [
    "myList"
   ]
  },
  {
   "cell_type": "code",
   "execution_count": 137,
   "id": "5ba8cb84",
   "metadata": {},
   "outputs": [],
   "source": [
    "myList.sort()"
   ]
  },
  {
   "cell_type": "code",
   "execution_count": 138,
   "id": "21d66816",
   "metadata": {},
   "outputs": [
    {
     "data": {
      "text/plain": [
       "[25, 35]"
      ]
     },
     "execution_count": 138,
     "metadata": {},
     "output_type": "execute_result"
    }
   ],
   "source": [
    "myList"
   ]
  },
  {
   "cell_type": "code",
   "execution_count": 143,
   "id": "06a825a5",
   "metadata": {},
   "outputs": [],
   "source": [
    "Alphabetlist = [\"a\",\"d\",\"b\",\"k\"]"
   ]
  },
  {
   "cell_type": "code",
   "execution_count": 144,
   "id": "4811f5da",
   "metadata": {},
   "outputs": [],
   "source": [
    "Alphabetlist.sort()"
   ]
  },
  {
   "cell_type": "code",
   "execution_count": 145,
   "id": "bbd07e9d",
   "metadata": {},
   "outputs": [
    {
     "data": {
      "text/plain": [
       "['a', 'b', 'd', 'k']"
      ]
     },
     "execution_count": 145,
     "metadata": {},
     "output_type": "execute_result"
    }
   ],
   "source": [
    "Alphabetlist"
   ]
  },
  {
   "cell_type": "code",
   "execution_count": 146,
   "id": "72ad73dc",
   "metadata": {},
   "outputs": [],
   "source": [
    "#Kullanıcıdan arka arkaya girdi alıcaz "
   ]
  },
  {
   "cell_type": "code",
   "execution_count": 149,
   "id": "5a6df2d7",
   "metadata": {},
   "outputs": [
    {
     "name": "stdout",
     "output_type": "stream",
     "text": [
      "Enter x : 10\n"
     ]
    }
   ],
   "source": [
    "x = input(\"Enter x : \")"
   ]
  },
  {
   "cell_type": "code",
   "execution_count": 150,
   "id": "0510757c",
   "metadata": {},
   "outputs": [
    {
     "data": {
      "text/plain": [
       "str"
      ]
     },
     "execution_count": 150,
     "metadata": {},
     "output_type": "execute_result"
    }
   ],
   "source": [
    "type(x)"
   ]
  },
  {
   "cell_type": "code",
   "execution_count": 151,
   "id": "ad0b10f0",
   "metadata": {},
   "outputs": [
    {
     "name": "stdout",
     "output_type": "stream",
     "text": [
      "Enter y : 15\n"
     ]
    }
   ],
   "source": [
    "y= input(\"Enter y : \")"
   ]
  },
  {
   "cell_type": "code",
   "execution_count": 152,
   "id": "23634e59",
   "metadata": {},
   "outputs": [
    {
     "name": "stdout",
     "output_type": "stream",
     "text": [
      " Enter z : 30\n"
     ]
    }
   ],
   "source": [
    "z=input(\" Enter z : \")"
   ]
  },
  {
   "cell_type": "code",
   "execution_count": 153,
   "id": "5d4e839c",
   "metadata": {},
   "outputs": [],
   "source": [
    "inputList = []"
   ]
  },
  {
   "cell_type": "code",
   "execution_count": 154,
   "id": "0d26aa85",
   "metadata": {},
   "outputs": [
    {
     "data": {
      "text/plain": [
       "[]"
      ]
     },
     "execution_count": 154,
     "metadata": {},
     "output_type": "execute_result"
    }
   ],
   "source": [
    "inputList"
   ]
  },
  {
   "cell_type": "code",
   "execution_count": 155,
   "id": "3cf4a955",
   "metadata": {},
   "outputs": [
    {
     "data": {
      "text/plain": [
       "0"
      ]
     },
     "execution_count": 155,
     "metadata": {},
     "output_type": "execute_result"
    }
   ],
   "source": [
    "len(inputList)"
   ]
  },
  {
   "cell_type": "code",
   "execution_count": 156,
   "id": "9d2dcc51",
   "metadata": {},
   "outputs": [],
   "source": [
    "inputList.append(x)\n",
    "inputList.append(y)\n",
    "inputList.append(z)"
   ]
  },
  {
   "cell_type": "code",
   "execution_count": 157,
   "id": "043d8aad",
   "metadata": {},
   "outputs": [
    {
     "data": {
      "text/plain": [
       "['10', '15', '30']"
      ]
     },
     "execution_count": 157,
     "metadata": {},
     "output_type": "execute_result"
    }
   ],
   "source": [
    "inputList"
   ]
  },
  {
   "cell_type": "code",
   "execution_count": 158,
   "id": "48945940",
   "metadata": {},
   "outputs": [
    {
     "data": {
      "text/plain": [
       "'1515'"
      ]
     },
     "execution_count": 158,
     "metadata": {},
     "output_type": "execute_result"
    }
   ],
   "source": [
    "inputList[1] *2"
   ]
  },
  {
   "cell_type": "code",
   "execution_count": 160,
   "id": "d441e690",
   "metadata": {},
   "outputs": [
    {
     "data": {
      "text/plain": [
       "str"
      ]
     },
     "execution_count": 160,
     "metadata": {},
     "output_type": "execute_result"
    }
   ],
   "source": [
    "type(inputList[1])"
   ]
  },
  {
   "cell_type": "code",
   "execution_count": 161,
   "id": "67ed40eb",
   "metadata": {},
   "outputs": [],
   "source": [
    "myInteger=100\n"
   ]
  },
  {
   "cell_type": "code",
   "execution_count": 162,
   "id": "9f302e47",
   "metadata": {},
   "outputs": [
    {
     "data": {
      "text/plain": [
       "'100'"
      ]
     },
     "execution_count": 162,
     "metadata": {},
     "output_type": "execute_result"
    }
   ],
   "source": [
    "str(myInteger)"
   ]
  },
  {
   "cell_type": "code",
   "execution_count": 163,
   "id": "8bf2a7c4",
   "metadata": {},
   "outputs": [
    {
     "data": {
      "text/plain": [
       "int"
      ]
     },
     "execution_count": 163,
     "metadata": {},
     "output_type": "execute_result"
    }
   ],
   "source": [
    "type(myInteger)"
   ]
  },
  {
   "cell_type": "code",
   "execution_count": 164,
   "id": "fe0ba62f",
   "metadata": {},
   "outputs": [],
   "source": [
    "myString= \"40\""
   ]
  },
  {
   "cell_type": "code",
   "execution_count": 165,
   "id": "6aa96a8f",
   "metadata": {},
   "outputs": [
    {
     "data": {
      "text/plain": [
       "40"
      ]
     },
     "execution_count": 165,
     "metadata": {},
     "output_type": "execute_result"
    }
   ],
   "source": [
    "int(myString)"
   ]
  },
  {
   "cell_type": "code",
   "execution_count": 166,
   "id": "d5ac5737",
   "metadata": {},
   "outputs": [
    {
     "data": {
      "text/plain": [
       "40.0"
      ]
     },
     "execution_count": 166,
     "metadata": {},
     "output_type": "execute_result"
    }
   ],
   "source": [
    "float(myString)"
   ]
  },
  {
   "cell_type": "code",
   "execution_count": 167,
   "id": "7d528110",
   "metadata": {},
   "outputs": [],
   "source": [
    "myString= \"python\""
   ]
  },
  {
   "cell_type": "code",
   "execution_count": 169,
   "id": "94f6c658",
   "metadata": {},
   "outputs": [],
   "source": [
    "#int(myString)"
   ]
  },
  {
   "cell_type": "code",
   "execution_count": 171,
   "id": "05003e66",
   "metadata": {},
   "outputs": [
    {
     "data": {
      "text/plain": [
       "30"
      ]
     },
     "execution_count": 171,
     "metadata": {},
     "output_type": "execute_result"
    }
   ],
   "source": [
    "int(inputList[0]) * 3 "
   ]
  },
  {
   "cell_type": "code",
   "execution_count": 172,
   "id": "43493c33",
   "metadata": {},
   "outputs": [
    {
     "data": {
      "text/plain": [
       "['10', '15', '30']"
      ]
     },
     "execution_count": 172,
     "metadata": {},
     "output_type": "execute_result"
    }
   ],
   "source": [
    "inputList"
   ]
  },
  {
   "cell_type": "code",
   "execution_count": 184,
   "id": "6e454c49",
   "metadata": {},
   "outputs": [],
   "source": [
    "mixList= [\"murat\", \"Semanur\",\"Viyan\",\"a\",1,6.0]"
   ]
  },
  {
   "cell_type": "code",
   "execution_count": 174,
   "id": "43edbecf",
   "metadata": {},
   "outputs": [
    {
     "data": {
      "text/plain": [
       "list"
      ]
     },
     "execution_count": 174,
     "metadata": {},
     "output_type": "execute_result"
    }
   ],
   "source": [
    "type(nameList)"
   ]
  },
  {
   "cell_type": "code",
   "execution_count": 175,
   "id": "1d77da1e",
   "metadata": {},
   "outputs": [
    {
     "data": {
      "text/plain": [
       "['murat', 'Semanur', 'Viyan', 'a', 1, 6.0]"
      ]
     },
     "execution_count": 175,
     "metadata": {},
     "output_type": "execute_result"
    }
   ],
   "source": [
    "nameList  "
   ]
  },
  {
   "cell_type": "code",
   "execution_count": 179,
   "id": "aae6d8ee",
   "metadata": {},
   "outputs": [],
   "source": [
    "list1= [10,20,30]\n",
    "list2=[40,50,60]"
   ]
  },
  {
   "cell_type": "code",
   "execution_count": 180,
   "id": "693375e0",
   "metadata": {},
   "outputs": [
    {
     "data": {
      "text/plain": [
       "[10, 20, 30, 40, 50, 60]"
      ]
     },
     "execution_count": 180,
     "metadata": {},
     "output_type": "execute_result"
    }
   ],
   "source": [
    "list1 + list2"
   ]
  },
  {
   "cell_type": "code",
   "execution_count": 181,
   "id": "b9d64a0b",
   "metadata": {},
   "outputs": [
    {
     "data": {
      "text/plain": [
       "[10, 20, 30, 10, 20, 30]"
      ]
     },
     "execution_count": 181,
     "metadata": {},
     "output_type": "execute_result"
    }
   ],
   "source": [
    "list1 *2"
   ]
  },
  {
   "cell_type": "code",
   "execution_count": 183,
   "id": "14920601",
   "metadata": {},
   "outputs": [],
   "source": [
    "#list1 / 5"
   ]
  },
  {
   "cell_type": "code",
   "execution_count": 186,
   "id": "546b5089",
   "metadata": {},
   "outputs": [
    {
     "data": {
      "text/plain": [
       "str"
      ]
     },
     "execution_count": 186,
     "metadata": {},
     "output_type": "execute_result"
    }
   ],
   "source": [
    "type(mixList[0])"
   ]
  },
  {
   "cell_type": "code",
   "execution_count": 187,
   "id": "8afe5a42",
   "metadata": {},
   "outputs": [
    {
     "data": {
      "text/plain": [
       "float"
      ]
     },
     "execution_count": 187,
     "metadata": {},
     "output_type": "execute_result"
    }
   ],
   "source": [
    "type(mixList[-1])"
   ]
  },
  {
   "cell_type": "code",
   "execution_count": 188,
   "id": "fed66ad9",
   "metadata": {},
   "outputs": [],
   "source": [
    "myNestedList= [10,20,3.13,\"murat\",list1]"
   ]
  },
  {
   "cell_type": "code",
   "execution_count": 190,
   "id": "004cf95b",
   "metadata": {},
   "outputs": [
    {
     "data": {
      "text/plain": [
       "[10, 20, 3.13, 'murat', [10, 20, 30]]"
      ]
     },
     "execution_count": 190,
     "metadata": {},
     "output_type": "execute_result"
    }
   ],
   "source": [
    "myNestedList #çok güzel bir özellik , liste içinde liste "
   ]
  },
  {
   "cell_type": "code",
   "execution_count": 191,
   "id": "34dc649d",
   "metadata": {},
   "outputs": [],
   "source": [
    "smallList=myNestedList[-1]"
   ]
  },
  {
   "cell_type": "code",
   "execution_count": 192,
   "id": "7e07c2b0",
   "metadata": {},
   "outputs": [
    {
     "data": {
      "text/plain": [
       "[10, 20, 30]"
      ]
     },
     "execution_count": 192,
     "metadata": {},
     "output_type": "execute_result"
    }
   ],
   "source": [
    "smallList\n"
   ]
  },
  {
   "cell_type": "code",
   "execution_count": 199,
   "id": "d3abc86d",
   "metadata": {},
   "outputs": [],
   "source": [
    "#içerideki lsitenin içine nasıl girilir ? : # smallList[0 ] yaparak girebiliriz"
   ]
  },
  {
   "cell_type": "code",
   "execution_count": 200,
   "id": "5858bb89",
   "metadata": {},
   "outputs": [
    {
     "data": {
      "text/plain": [
       "30"
      ]
     },
     "execution_count": 200,
     "metadata": {},
     "output_type": "execute_result"
    }
   ],
   "source": [
    "smallList[2]"
   ]
  },
  {
   "cell_type": "code",
   "execution_count": 202,
   "id": "aaaa1823",
   "metadata": {},
   "outputs": [
    {
     "data": {
      "text/plain": [
       "30"
      ]
     },
     "execution_count": 202,
     "metadata": {},
     "output_type": "execute_result"
    }
   ],
   "source": [
    "myNestedList[4][2] #bu da liste içinde listeye erişmenin ikinci yolu"
   ]
  },
  {
   "cell_type": "code",
   "execution_count": 203,
   "id": "ad9f07c7",
   "metadata": {},
   "outputs": [],
   "source": [
    "listList = [\"a\",\"b\",[\"c\",\"d\",\"e\"],\"f\"]"
   ]
  },
  {
   "cell_type": "code",
   "execution_count": 204,
   "id": "9abd181c",
   "metadata": {},
   "outputs": [
    {
     "data": {
      "text/plain": [
       "4"
      ]
     },
     "execution_count": 204,
     "metadata": {},
     "output_type": "execute_result"
    }
   ],
   "source": [
    "len(listList)"
   ]
  },
  {
   "cell_type": "code",
   "execution_count": 205,
   "id": "0fbfe23d",
   "metadata": {},
   "outputs": [
    {
     "data": {
      "text/plain": [
       "'c'"
      ]
     },
     "execution_count": 205,
     "metadata": {},
     "output_type": "execute_result"
    }
   ],
   "source": [
    "listList[2][0]"
   ]
  },
  {
   "cell_type": "code",
   "execution_count": 212,
   "id": "f4d57f00",
   "metadata": {},
   "outputs": [],
   "source": [
    "firstList= [10,20,30,40,50,60,70]"
   ]
  },
  {
   "cell_type": "code",
   "execution_count": 213,
   "id": "4083c99b",
   "metadata": {},
   "outputs": [
    {
     "data": {
      "text/plain": [
       "[10, 20, 30, 40, 50, 60, 70]"
      ]
     },
     "execution_count": 213,
     "metadata": {},
     "output_type": "execute_result"
    }
   ],
   "source": [
    "firstList[::]"
   ]
  },
  {
   "cell_type": "code",
   "execution_count": 214,
   "id": "c9cd3395",
   "metadata": {},
   "outputs": [
    {
     "data": {
      "text/plain": [
       "[10, 20, 30, 40]"
      ]
     },
     "execution_count": 214,
     "metadata": {},
     "output_type": "execute_result"
    }
   ],
   "source": [
    "firstList[:4]"
   ]
  },
  {
   "cell_type": "code",
   "execution_count": null,
   "id": "c8421935",
   "metadata": {},
   "outputs": [],
   "source": []
  }
 ],
 "metadata": {
  "kernelspec": {
   "display_name": "Python 3 (ipykernel)",
   "language": "python",
   "name": "python3"
  },
  "language_info": {
   "codemirror_mode": {
    "name": "ipython",
    "version": 3
   },
   "file_extension": ".py",
   "mimetype": "text/x-python",
   "name": "python",
   "nbconvert_exporter": "python",
   "pygments_lexer": "ipython3",
   "version": "3.11.5"
  }
 },
 "nbformat": 4,
 "nbformat_minor": 5
}
